{
 "cells": [
  {
   "cell_type": "code",
   "execution_count": 0,
   "metadata": {
    "application/vnd.databricks.v1+cell": {
     "cellMetadata": {
      "byteLimit": 2048000,
      "rowLimit": 10000
     },
     "inputWidgets": {},
     "nuid": "1ce6f9b4-2ed2-49fd-afe8-b870d604b899",
     "showTitle": false,
     "tableResultSettingsMap": {},
     "title": ""
    }
   },
   "outputs": [],
   "source": [
    "# retail_silver (actualizado para procesamiento incremental)\n",
    "\n",
    "from pyspark.sql.functions import col, round, trim, upper, length, to_timestamp, when\n",
    "\n",
    "# 1. Leer desde Bronze\n",
    "ruta_bronze = \"/Volumes/workspace/default/retail_lakehouse/bronze\"\n",
    "df_bronze = spark.read.format(\"delta\").load(ruta_bronze)\n",
    "\n",
    "# 2. Limpiar y transformar\n",
    "\n",
    "# Eliminar registros nulos críticos y datos negativos\n",
    "df_silver_clean = (\n",
    "    df_bronze.dropna(subset=[\"InvoiceNo\", \"StockCode\", \"Quantity\", \"UnitPrice\", \"CustomerID\", \"InvoiceDate\"])\n",
    "             .filter((col(\"Quantity\") > 0) & (col(\"UnitPrice\") > 0))\n",
    ")\n",
    "\n",
    "# Normalizar columnas de texto\n",
    "df_silver_clean = (\n",
    "    df_silver_clean.withColumn(\"Description\", trim(upper(col(\"Description\"))))\n",
    "                   .withColumn(\"Country\", trim(upper(col(\"Country\"))))\n",
    ")\n",
    "\n",
    "# Convertir fechas\n",
    "\n",
    "# Nota: Si ya está en timestamp, no pasa nada\n",
    "df_silver_clean = df_silver_clean.withColumn(\"InvoiceDate\", to_timestamp(col(\"InvoiceDate\")))\n",
    "\n",
    "# Agregar columna de total de venta\n",
    "df_silver_clean = df_silver_clean.withColumn(\"TotalVenta\", round(col(\"Quantity\") * col(\"UnitPrice\"), 2))\n",
    "\n",
    "# Validar descripción\n",
    "\n",
    "df_silver_clean = df_silver_clean.withColumn(\n",
    "    \"DescripcionValida\", when(length(col(\"Description\")) > 0, \"SI\").otherwise(\"NO\")\n",
    ")\n",
    "\n",
    "# Eliminar duplicados exactos por seguridad\n",
    "df_silver_clean = df_silver_clean.dropDuplicates()\n",
    "\n",
    "# Guardar en capa Silver sin sobrescribir todo, solo appending si es incremental\n",
    "ruta_silver = \"/Volumes/workspace/default/retail_lakehouse/silver\"\n",
    "df_silver_clean.write.format(\"delta\").mode(\"append\").save(ruta_silver)\n",
    "\n",
    "# Crear vista para uso posterior\n",
    "df_silver_clean.createOrReplaceTempView(\"silver_online_retail\")"
   ]
  }
 ],
 "metadata": {
  "application/vnd.databricks.v1+notebook": {
   "computePreferences": null,
   "dashboards": [],
   "environmentMetadata": {
    "base_environment": "",
    "environment_version": "2"
   },
   "inputWidgetPreferences": null,
   "language": "python",
   "notebookMetadata": {
    "mostRecentlyExecutedCommandWithImplicitDF": {
     "commandId": 4977210365033422,
     "dataframes": [
      "_sqldf"
     ]
    },
    "pythonIndentUnit": 4
   },
   "notebookName": "retail_silver",
   "widgets": {}
  },
  "language_info": {
   "name": "python"
  }
 },
 "nbformat": 4,
 "nbformat_minor": 0
}
