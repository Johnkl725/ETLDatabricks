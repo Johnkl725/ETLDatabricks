{
 "cells": [
  {
   "cell_type": "code",
   "execution_count": 0,
   "metadata": {
    "application/vnd.databricks.v1+cell": {
     "cellMetadata": {
      "byteLimit": 2048000,
      "rowLimit": 10000
     },
     "inputWidgets": {},
     "nuid": "1ce6f9b4-2ed2-49fd-afe8-b870d604b899",
     "showTitle": false,
     "tableResultSettingsMap": {},
     "title": ""
    }
   },
   "outputs": [],
   "source": [
    "from pyspark.sql.functions import col, round, trim, upper, length, to_timestamp, when\n",
    "\n",
    "ruta_bronze = \"/Volumes/workspace/default/retail_lakehouse/bronze\"\n",
    "df_bronze = spark.read.format(\"delta\").load(ruta_bronze)\n",
    "\n",
    "df_silver_clean = (\n",
    "    df_bronze.dropna(subset=[\"InvoiceNo\", \"StockCode\", \"Quantity\", \"UnitPrice\", \"CustomerID\", \"InvoiceDate\"])\n",
    "             .filter((col(\"Quantity\") > 0) & (col(\"UnitPrice\") > 0))\n",
    ")\n",
    "\n",
    "df_silver_clean = (\n",
    "    df_silver_clean.withColumn(\"Description\", trim(upper(col(\"Description\"))))\n",
    "                   .withColumn(\"Country\", trim(upper(col(\"Country\"))))\n",
    ")\n",
    "\n",
    "df_silver_clean = df_silver_clean.withColumn(\"InvoiceDate\", to_timestamp(col(\"InvoiceDate\"), 'dd-MM-yyyy HH:mm'))\n",
    "\n",
    "\n",
    "df_silver_clean = df_silver_clean.withColumn(\"TotalVenta\", round(col(\"Quantity\") * col(\"UnitPrice\"), 2))\n",
    "\n",
    "\n",
    "df_silver_clean = df_silver_clean.withColumn(\n",
    "    \"DescripcionValida\", when(length(col(\"Description\")) > 0, \"SI\").otherwise(\"NO\")\n",
    ")\n",
    "\n",
    "\n",
    "df_silver_clean = df_silver_clean.dropDuplicates()\n",
    "\n",
    "ruta_silver = \"/Volumes/workspace/default/retail_lakehouse/silver\"\n",
    "df_silver_clean.write.format(\"delta\").mode(\"append\").save(ruta_silver)\n",
    "\n",
    "df_silver_clean.createOrReplaceTempView(\"silver_online_retail\")"
   ]
  },
  {
   "cell_type": "code",
   "execution_count": 0,
   "metadata": {
    "application/vnd.databricks.v1+cell": {
     "cellMetadata": {},
     "inputWidgets": {},
     "nuid": "c036780f-f68b-4c65-9a13-92a9175e8280",
     "showTitle": false,
     "tableResultSettingsMap": {},
     "title": ""
    }
   },
   "outputs": [],
   "source": [
    "from pyspark.sql.functions import max, countDistinct, col\n",
    "\n",
    "# Total de registros procesados\n",
    "total = df_silver_clean.count()\n",
    "\n",
    "# Total de países distintos\n",
    "paises = df_silver_clean.select(\"Country\").distinct().count()\n",
    "\n",
    "# Última fecha de venta registrada\n",
    "ultima_fecha = df_silver_clean.select(max(\"InvoiceDate\")).collect()[0][0]\n",
    "\n",
    "# Mostrar resumen con estilo\n",
    "print(\"📦 CAPA SILVER – RESUMEN DEL PROCESO ETL\")\n",
    "print(f\"✅ Registros procesados exitosamente: {total}\")\n",
    "print(f\"🌍 Número de países únicos: {paises}\")\n",
    "print(f\"🕒 Última venta registrada: {ultima_fecha}\")\n",
    "\n",
    "\n",
    "# Vista previa de los últimos 5 registros por fecha\n",
    "print(\"\\n🔍 Vista previa de las últimas 5 ventas registradas:\")\n",
    "display(df_silver_clean.orderBy(col(\"InvoiceDate\").desc()).limit(5))"
   ]
  }
 ],
 "metadata": {
  "application/vnd.databricks.v1+notebook": {
   "computePreferences": null,
   "dashboards": [],
   "environmentMetadata": {
    "base_environment": "",
    "environment_version": "2"
   },
   "inputWidgetPreferences": null,
   "language": "python",
   "notebookMetadata": {
    "mostRecentlyExecutedCommandWithImplicitDF": {
     "commandId": 4594614366906833,
     "dataframes": [
      "_sqldf"
     ]
    },
    "pythonIndentUnit": 4
   },
   "notebookName": "retail_silver",
   "widgets": {}
  },
  "language_info": {
   "name": "python"
  }
 },
 "nbformat": 4,
 "nbformat_minor": 0
}
