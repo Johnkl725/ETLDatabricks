{
 "cells": [
  {
   "cell_type": "code",
   "execution_count": 0,
   "metadata": {
    "application/vnd.databricks.v1+cell": {
     "cellMetadata": {
      "byteLimit": 2048000,
      "rowLimit": 10000
     },
     "inputWidgets": {},
     "nuid": "0c2c2878-6a59-4d68-8c79-b538ae41d59f",
     "showTitle": false,
     "tableResultSettingsMap": {},
     "title": ""
    }
   },
   "outputs": [],
   "source": [
    "df_nuevos = spark.read.parquet(\"/Volumes/workspace/default/retail_lakehouse/Online_Retail_Parquet\")\n",
    "\n",
    "from delta.tables import DeltaTable\n",
    "from pyspark.sql.functions import col\n",
    "\n",
    "ruta_bronze = \"/Volumes/workspace/default/retail_lakehouse/bronze\"\n",
    "delta_bronze = DeltaTable.forPath(spark, ruta_bronze)\n",
    "df_bronze_actual = delta_bronze.toDF()\n",
    "\n",
    "df_nuevos_unicos = df_nuevos.alias(\"nuevos\").join(\n",
    "    df_bronze_actual.alias(\"existente\"),\n",
    "    on=[\n",
    "        col(\"nuevos.InvoiceNo\") == col(\"existente.InvoiceNo\"),\n",
    "        col(\"nuevos.StockCode\") == col(\"existente.StockCode\")\n",
    "    ],\n",
    "    how=\"left_anti\"\n",
    ")\n",
    "\n",
    "print(f\"🆕 Registros nuevos detectados: {df_nuevos_unicos.count()}\")\n",
    "\n",
    "df_nuevos_unicos.write.format(\"delta\").mode(\"append\").save(ruta_bronze)\n",
    "\n",
    "spark.read.format(\"delta\").load(ruta_bronze).createOrReplaceTempView(\"bronze_online_retail\") "
   ]
  },
  {
   "cell_type": "code",
   "execution_count": 0,
   "metadata": {
    "application/vnd.databricks.v1+cell": {
     "cellMetadata": {},
     "inputWidgets": {},
     "nuid": "f2807dc5-fb99-4987-89e9-c04d2a613ebf",
     "showTitle": false,
     "tableResultSettingsMap": {},
     "title": ""
    }
   },
   "outputs": [],
   "source": []
  }
 ],
 "metadata": {
  "application/vnd.databricks.v1+notebook": {
   "computePreferences": null,
   "dashboards": [],
   "environmentMetadata": {
    "base_environment": "",
    "environment_version": "2"
   },
   "inputWidgetPreferences": null,
   "language": "python",
   "notebookMetadata": {
    "mostRecentlyExecutedCommandWithImplicitDF": {
     "commandId": 4594614366906848,
     "dataframes": [
      "_sqldf"
     ]
    },
    "pythonIndentUnit": 4
   },
   "notebookName": "bronze_retail",
   "widgets": {}
  },
  "language_info": {
   "name": "python"
  }
 },
 "nbformat": 4,
 "nbformat_minor": 0
}
