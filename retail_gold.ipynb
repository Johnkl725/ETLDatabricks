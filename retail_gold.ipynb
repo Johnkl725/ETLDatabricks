{
 "cells": [
  {
   "cell_type": "code",
   "execution_count": 0,
   "metadata": {
    "application/vnd.databricks.v1+cell": {
     "cellMetadata": {
      "byteLimit": 2048000,
      "rowLimit": 10000
     },
     "inputWidgets": {},
     "nuid": "5aa25723-eba6-40ba-814f-6280d271f553",
     "showTitle": false,
     "tableResultSettingsMap": {},
     "title": ""
    }
   },
   "outputs": [],
   "source": [
    "# GOLD LAYER - KPIs Y AGREGACIONES PARA ANALÍTICA FINAL\n",
    "# ========================================================\n",
    "\n",
    "from pyspark.sql.functions import col, round, sum, countDistinct, avg, to_date\n",
    "\n",
    "# 1. Cargar desde Silver Layer\n",
    "df_silver = spark.read.format(\"delta\").load(\"/Volumes/workspace/default/retail_lakehouse/silver\")\n",
    "\n",
    "# 2. Calcular columna TotalVenta (por si no está)\n",
    "df_silver = df_silver.withColumn(\"TotalVenta\", round(col(\"Quantity\") * col(\"UnitPrice\"), 2))\n",
    "\n",
    "# 3. KPI: Total de ventas por país\n",
    "df_kpi_pais = (\n",
    "    df_silver\n",
    "    .groupBy(\"Country\")\n",
    "    .agg(sum(\"TotalVenta\").alias(\"VentasTotales\"))\n",
    "    .orderBy(\"VentasTotales\", ascending=False)\n",
    ")\n",
    "df_kpi_pais.write.format(\"delta\").mode(\"overwrite\").save(\"/Volumes/workspace/default/retail_lakehouse/gold/kpi_ventas_pais\")\n",
    "\n",
    "# 4. KPI: Productos más vendidos\n",
    "df_kpi_productos = (\n",
    "    df_silver\n",
    "    .groupBy(\"Description\")\n",
    "    .agg(sum(\"TotalVenta\").alias(\"TotalVendido\"))\n",
    "    .orderBy(\"TotalVendido\", ascending=False)\n",
    ")\n",
    "df_kpi_productos.write.format(\"delta\").mode(\"overwrite\").save(\"/Volumes/workspace/default/retail_lakehouse/gold/kpi_productos_top\")\n",
    "\n",
    "# 5. KPI: Ventas diarias\n",
    "df_kpi_dia = (\n",
    "    df_silver\n",
    "    .withColumn(\"Fecha\", to_date(\"InvoiceDate\"))\n",
    "    .groupBy(\"Fecha\")\n",
    "    .agg(sum(\"TotalVenta\").alias(\"VentasTotales\"))\n",
    "    .orderBy(\"Fecha\")\n",
    ")\n",
    "df_kpi_dia.write.format(\"delta\").mode(\"overwrite\").save(\"/Volumes/workspace/default/retail_lakehouse/gold/kpi_ventas_dia\")\n",
    "\n",
    "# 6. KPI: Clientes con mayor gasto\n",
    "df_kpi_clientes = (\n",
    "    df_silver\n",
    "    .groupBy(\"CustomerID\")\n",
    "    .agg(sum(\"TotalVenta\").alias(\"TotalGastado\"))\n",
    "    .orderBy(\"TotalGastado\", ascending=False)\n",
    ")\n",
    "df_kpi_clientes.write.format(\"delta\").mode(\"overwrite\").save(\"/Volumes/workspace/default/retail_lakehouse/gold/kpi_clientes_top\")\n",
    "\n",
    "# 7. KPI: Ticket promedio por transacción\n",
    "df_kpi_ticket = (\n",
    "    df_silver\n",
    "    .groupBy(\"InvoiceNo\")\n",
    "    .agg(sum(\"TotalVenta\").alias(\"MontoFactura\"))\n",
    "    .agg(round(avg(\"MontoFactura\"), 2).alias(\"TicketPromedio\"))\n",
    ")\n",
    "df_kpi_ticket.write.format(\"delta\").mode(\"overwrite\").save(\"/Volumes/workspace/default/retail_lakehouse/gold/kpi_ticket_promedio\")\n",
    "\n",
    "# 8. (Opcional) Crear vistas temporales\n",
    "\n",
    "# df_kpi_pais.createOrReplaceTempView(\"gold_ventas_por_pais\")\n",
    "# df_kpi_productos.createOrReplaceTempView(\"gold_productos_top\")\n",
    "# df_kpi_dia.createOrReplaceTempView(\"gold_ventas_diarias\")\n",
    "# df_kpi_clientes.createOrReplaceTempView(\"gold_clientes_top\")\n",
    "# df_kpi_ticket.createOrReplaceTempView(\"gold_ticket_promedio\")\n",
    "\n",
    "# ✅ Fin de la capa Gold"
   ]
  },
  {
   "cell_type": "code",
   "execution_count": 0,
   "metadata": {
    "application/vnd.databricks.v1+cell": {
     "cellMetadata": {
      "byteLimit": 2048000,
      "rowLimit": 10000
     },
     "inputWidgets": {},
     "nuid": "90852fde-f189-4b12-a0ee-6135e42f2bf0",
     "showTitle": false,
     "tableResultSettingsMap": {},
     "title": ""
    }
   },
   "outputs": [],
   "source": [
    "df_kpi_pais.createOrReplaceTempView(\"gold_ventas_por_pais\")\n",
    "df_kpi_productos.createOrReplaceTempView(\"gold_productos_top\")\n",
    "df_kpi_dia.createOrReplaceTempView(\"gold_ventas_diarias\")\n",
    "df_kpi_clientes.createOrReplaceTempView(\"gold_clientes_top\")\n",
    "df_kpi_ticket.createOrReplaceTempView(\"gold_ticket_promedio\")"
   ]
  },
  {
   "cell_type": "code",
   "execution_count": 0,
   "metadata": {
    "application/vnd.databricks.v1+cell": {
     "cellMetadata": {
      "byteLimit": 2048000,
      "implicitDf": true,
      "rowLimit": 10000
     },
     "inputWidgets": {},
     "nuid": "7bde4455-1b72-4304-a362-286db240d663",
     "showTitle": false,
     "tableResultSettingsMap": {},
     "title": ""
    }
   },
   "outputs": [],
   "source": [
    "%sql\n",
    "select * from gold_productos_top;\n",
    "select * from gold_ventas_diarias"
   ]
  },
  {
   "cell_type": "code",
   "execution_count": 0,
   "metadata": {
    "application/vnd.databricks.v1+cell": {
     "cellMetadata": {},
     "inputWidgets": {},
     "nuid": "b2b8e799-761e-4dda-bca9-9256c8cda8bd",
     "showTitle": false,
     "tableResultSettingsMap": {},
     "title": ""
    }
   },
   "outputs": [],
   "source": []
  }
 ],
 "metadata": {
  "application/vnd.databricks.v1+notebook": {
   "computePreferences": null,
   "dashboards": [],
   "environmentMetadata": {
    "base_environment": "",
    "environment_version": "2"
   },
   "inputWidgetPreferences": null,
   "language": "python",
   "notebookMetadata": {
    "mostRecentlyExecutedCommandWithImplicitDF": {
     "commandId": 4594614366906872,
     "dataframes": [
      "_sqldf"
     ]
    },
    "pythonIndentUnit": 4
   },
   "notebookName": "retail_gold",
   "widgets": {}
  },
  "language_info": {
   "name": "python"
  }
 },
 "nbformat": 4,
 "nbformat_minor": 0
}
