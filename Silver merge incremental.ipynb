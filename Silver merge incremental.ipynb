{
 "cells": [
  {
   "cell_type": "code",
   "execution_count": 0,
   "metadata": {
    "application/vnd.databricks.v1+cell": {
     "cellMetadata": {
      "byteLimit": 2048000,
      "rowLimit": 10000
     },
     "inputWidgets": {},
     "nuid": "665b792c-2eef-45e5-8bb8-2f6f0025cc8a",
     "showTitle": false,
     "tableResultSettingsMap": {},
     "title": ""
    }
   },
   "outputs": [],
   "source": [
    "from pyspark.sql import Row\n",
    "from pyspark.sql.functions import *\n",
    "nuevos_datos = [\n",
    "    Row(InvoiceNo=\"536365\", StockCode=\"85123A\", Quantity=10, UnitPrice=2.55, Description=\"WHITE HANGING HEART\", InvoiceDate=\"2010-12-01 08:26:00\", CustomerID=17850, Country=\"UNITED KINGDOM\"),\n",
    "    Row(InvoiceNo=\"999999\", StockCode=\"99999X\", Quantity=1, UnitPrice=9.99, Description=\"NEW PRODUCT\", InvoiceDate=\"2011-01-01 10:00:00\", CustomerID=99999, Country=\"FRANCE\")\n",
    "]\n",
    "\n",
    "df_actualizacion = spark.createDataFrame(nuevos_datos)\n",
    "df_actualizacion.write.mode(\"append\").saveAsTable(\"sales\")"
   ]
  },
  {
   "cell_type": "code",
   "execution_count": 0,
   "metadata": {
    "application/vnd.databricks.v1+cell": {
     "cellMetadata": {
      "byteLimit": 2048000,
      "implicitDf": true,
      "rowLimit": 10000
     },
     "inputWidgets": {},
     "nuid": "c6195609-4fbf-45ae-ba10-91bc2b8ec21e",
     "showTitle": false,
     "tableResultSettingsMap": {},
     "title": ""
    }
   },
   "outputs": [],
   "source": [
    "df_actualizacion.write.format(\"delta\").mode(\"overwrite\").save(\"/Volumes/workspace/default/retail_lakehouse/temp_actualizacion\")"
   ]
  },
  {
   "cell_type": "code",
   "execution_count": 0,
   "metadata": {
    "application/vnd.databricks.v1+cell": {
     "cellMetadata": {
      "byteLimit": 2048000,
      "rowLimit": 10000
     },
     "inputWidgets": {},
     "nuid": "f56ae0e6-81a6-4794-bca3-bbe273634a88",
     "showTitle": false,
     "tableResultSettingsMap": {},
     "title": ""
    }
   },
   "outputs": [],
   "source": [
    "df_fuente = spark.read.format(\"delta\").load(\"/Volumes/workspace/default/retail_lakehouse/temp_actualizacion\")\n",
    "df_fuente.createOrReplaceTempView(\"temp_actualizacion\")"
   ]
  },
  {
   "cell_type": "code",
   "execution_count": 0,
   "metadata": {
    "application/vnd.databricks.v1+cell": {
     "cellMetadata": {
      "byteLimit": 2048000,
      "implicitDf": true,
      "rowLimit": 10000
     },
     "inputWidgets": {},
     "nuid": "bed8f854-c615-4c92-b09f-bc2c0a6998cf",
     "showTitle": false,
     "tableResultSettingsMap": {},
     "title": ""
    }
   },
   "outputs": [],
   "source": [
    "df_silver = spark.read.format(\"delta\").load(\"/Volumes/workspace/default/retail_lakehouse/silver\")\n",
    "df_silver.createOrReplaceTempView(\"silver_online_retail\")"
   ]
  },
  {
   "cell_type": "code",
   "execution_count": 0,
   "metadata": {
    "application/vnd.databricks.v1+cell": {
     "cellMetadata": {
      "byteLimit": 2048000,
      "implicitDf": true,
      "rowLimit": 10000
     },
     "inputWidgets": {},
     "nuid": "1417058c-4f19-40ff-8edc-3fe58fb6a236",
     "showTitle": false,
     "tableResultSettingsMap": {},
     "title": ""
    }
   },
   "outputs": [],
   "source": [
    "%sql\n",
    "MERGE INTO silver_online_retail AS destino\n",
    "USING temp_actualizacion AS fuente\n",
    "ON destino.InvoiceNo = fuente.InvoiceNo AND destino.StockCode = fuente.StockCode\n",
    "WHEN MATCHED THEN\n",
    "  UPDATE SET\n",
    "    destino.Quantity = fuente.Quantity,\n",
    "    destino.UnitPrice = fuente.UnitPrice,\n",
    "    destino.Description = fuente.Description,\n",
    "    destino.InvoiceDate = fuente.InvoiceDate,\n",
    "    destino.CustomerID = fuente.CustomerID,\n",
    "    destino.Country = fuente.Country\n",
    "WHEN NOT MATCHED THEN\n",
    "  INSERT (InvoiceNo, StockCode, Quantity, UnitPrice, Description, InvoiceDate, CustomerID, Country)\n",
    "  VALUES (fuente.InvoiceNo, fuente.StockCode, fuente.Quantity, fuente.UnitPrice, fuente.Description, fuente.InvoiceDate, fuente.CustomerID, fuente.Country)"
   ]
  },
  {
   "cell_type": "code",
   "execution_count": 0,
   "metadata": {
    "application/vnd.databricks.v1+cell": {
     "cellMetadata": {},
     "inputWidgets": {},
     "nuid": "d650a447-ffd4-4132-b6ad-6b8fc59a9070",
     "showTitle": false,
     "tableResultSettingsMap": {},
     "title": ""
    }
   },
   "outputs": [],
   "source": []
  }
 ],
 "metadata": {
  "application/vnd.databricks.v1+notebook": {
   "computePreferences": null,
   "dashboards": [],
   "environmentMetadata": {
    "base_environment": "",
    "environment_version": "2"
   },
   "inputWidgetPreferences": null,
   "language": "python",
   "notebookMetadata": {
    "mostRecentlyExecutedCommandWithImplicitDF": {
     "commandId": 4977210365033431,
     "dataframes": [
      "_sqldf"
     ]
    },
    "pythonIndentUnit": 4
   },
   "notebookName": "Silver merge incremental",
   "widgets": {}
  },
  "language_info": {
   "name": "python"
  }
 },
 "nbformat": 4,
 "nbformat_minor": 0
}
