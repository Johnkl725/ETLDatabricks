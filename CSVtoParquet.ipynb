{
 "cells": [
  {
   "cell_type": "code",
   "execution_count": 0,
   "metadata": {
    "application/vnd.databricks.v1+cell": {
     "cellMetadata": {
      "byteLimit": 2048000,
      "rowLimit": 10000
     },
     "inputWidgets": {},
     "nuid": "a4bde4a7-962d-4ad0-aa6c-25391454666b",
     "showTitle": false,
     "tableResultSettingsMap": {},
     "title": ""
    }
   },
   "outputs": [],
   "source": [
    "# 1. Ruta del archivo CSV original\n",
    "ruta_csv = \"/Volumes/workspace/default/retail_lakehouse/Online Retail Data Set.csv\"\n",
    "\n",
    "# 2. Leer el CSV como DataFrame\n",
    "df = spark.read.option(\"header\", \"true\").option(\"inferSchema\", \"true\").csv(ruta_csv)\n",
    "\n",
    "# 3. Mostrar una muestra y esquema del DataFrame (opcional)\n",
    "df.show(5)\n",
    "df.printSchema()\n",
    "\n",
    "# 4. Definir ruta de salida para el archivo Parquet\n",
    "ruta_parquet = \"/Volumes/workspace/default/retail_lakehouse/Online_Retail_Parquet\"\n",
    "\n",
    "# 5. Guardar como archivo Parquet\n",
    "df.write.mode(\"overwrite\").parquet(ruta_parquet)\n",
    "\n",
    "print(f\"Archivo Parquet guardado correctamente en: {ruta_parquet}\")"
   ]
  },
  {
   "cell_type": "code",
   "execution_count": 0,
   "metadata": {
    "application/vnd.databricks.v1+cell": {
     "cellMetadata": {},
     "inputWidgets": {},
     "nuid": "da553c2c-79ff-4e80-ab37-b13ee85b9e7d",
     "showTitle": false,
     "tableResultSettingsMap": {},
     "title": ""
    }
   },
   "outputs": [],
   "source": []
  }
 ],
 "metadata": {
  "application/vnd.databricks.v1+notebook": {
   "computePreferences": null,
   "dashboards": [],
   "environmentMetadata": {
    "base_environment": "",
    "environment_version": "2"
   },
   "inputWidgetPreferences": null,
   "language": "python",
   "notebookMetadata": {
    "pythonIndentUnit": 4
   },
   "notebookName": "CSVtoParquet",
   "widgets": {}
  },
  "language_info": {
   "name": "python"
  }
 },
 "nbformat": 4,
 "nbformat_minor": 0
}
